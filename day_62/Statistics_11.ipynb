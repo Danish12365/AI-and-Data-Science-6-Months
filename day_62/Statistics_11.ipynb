{
 "cells": [
  {
   "cell_type": "markdown",
   "metadata": {},
   "source": [
    "# ABC of Statistics for Data Science and Machine Learning | (Day-11)"
   ]
  },
  {
   "cell_type": "markdown",
   "metadata": {},
   "source": [
    "Data visulization \n",
    "1- frequencey table/plot\n",
    "2- bar chart for univariate (histogram for distribution and Bar chart for outliers)\n",
    "3-Bivreriate plots(scatter plot, line charet,and both are nmaric )"
   ]
  },
  {
   "cell_type": "code",
   "execution_count": null,
   "metadata": {},
   "outputs": [],
   "source": []
  }
 ],
 "metadata": {
  "kernelspec": {
   "display_name": "Python 3",
   "language": "python",
   "name": "python3"
  },
  "language_info": {
   "name": "python",
   "version": "3.12.0"
  }
 },
 "nbformat": 4,
 "nbformat_minor": 2
}
