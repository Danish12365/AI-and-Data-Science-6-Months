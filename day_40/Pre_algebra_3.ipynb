{
 "cells": [
  {
   "cell_type": "markdown",
   "metadata": {},
   "source": [
    "# Pre-algebra for Data Science part 3 | Zero-to-Math series"
   ]
  },
  {
   "cell_type": "markdown",
   "metadata": {},
   "source": [
    "# Assighnment 1: Metric and Imperial Units\n",
    "\n",
    "The Metric and Imperial systems are two different measurement systems used around the world. Here’s an overview of both:\n",
    "\n",
    "### Metric System\n",
    "The Metric System, also known as the International System of Units (SI), is used by most countries and is based on units of 10. Here are the main units:\n",
    "\n",
    "1. **Length**:\n",
    "   - Millimeter (mm)\n",
    "   - Centimeter (cm)\n",
    "   - Meter (m)\n",
    "   - Kilometer (km)\n",
    "\n",
    "2. **Mass**:\n",
    "   - Milligram (mg)\n",
    "   - Gram (g)\n",
    "   - Kilogram (kg)\n",
    "   - Metric Ton (t)\n",
    "\n",
    "3. **Volume**:\n",
    "   - Milliliter (mL)\n",
    "   - Liter (L)\n",
    "   - Cubic meter (m³)\n",
    "\n",
    "4. **Temperature**:\n",
    "   - Degrees Celsius (°C)\n",
    "\n",
    "5. **Area**:\n",
    "   - Square meter (m²)\n",
    "   - Hectare (ha)\n",
    "\n",
    "### Imperial System\n",
    "The Imperial System is primarily used in the United States and a few other countries. Here are the main units:\n",
    "\n",
    "1. **Length**:\n",
    "   - Inch (in)\n",
    "   - Foot (ft)\n",
    "   - Yard (yd)\n",
    "   - Mile (mi)\n",
    "\n",
    "2. **Mass/Weight**:\n",
    "   - Ounce (oz)\n",
    "   - Pound (lb)\n",
    "   - Ton (short ton, US ton)\n",
    "\n",
    "3. **Volume**:\n",
    "   - Teaspoon (tsp)\n",
    "   - Tablespoon (tbsp)\n",
    "   - Fluid ounce (fl oz)\n",
    "   - Cup\n",
    "   - Pint (pt)\n",
    "   - Quart (qt)\n",
    "   - Gallon (gal)\n",
    "   - Cubic foot (ft³)\n",
    "\n",
    "4. **Temperature**:\n",
    "   - Degrees Fahrenheit (°F)\n",
    "\n",
    "5. **Area**:\n",
    "   - Square inch (in²)\n",
    "   - Square foot (ft²)\n",
    "   - Square yard (yd²)\n",
    "   - Acre\n",
    "\n",
    "### Converting Between Metric and Imperial Units\n",
    "Here are some common conversions between the Metric and Imperial systems:\n",
    "\n",
    "1. **Length**:\n",
    "   - 1 inch = 2.54 centimeters\n",
    "   - 1 foot = 0.3048 meters\n",
    "   - 1 yard = 0.9144 meters\n",
    "   - 1 mile = 1.60934 kilometers\n",
    "\n",
    "2. **Mass/Weight**:\n",
    "   - 1 ounce = 28.3495 grams\n",
    "   - 1 pound = 0.453592 kilograms\n",
    "   - 1 ton (US) = 907.185 kilograms\n",
    "\n",
    "3. **Volume**:\n",
    "   - 1 teaspoon = 4.92892 milliliters\n",
    "   - 1 tablespoon = 14.7868 milliliters\n",
    "   - 1 fluid ounce = 29.5735 milliliters\n",
    "   - 1 cup = 236.588 milliliters\n",
    "   - 1 pint = 473.176 milliliters\n",
    "   - 1 quart = 0.946353 liters\n",
    "   - 1 gallon = 3.78541 liters\n",
    "\n",
    "4. **Temperature**:\n",
    "   - \\( \\text{°F} = \\text{°C} \\times \\frac{9}{5} + 32 \\)\n",
    "   - \\( \\text{°C} = (\\text{°F} - 32) \\times \\frac{5}{9} \\)\n",
    "\n",
    "These conversions help in understanding and converting measurements between the two systems."
   ]
  },
  {
   "cell_type": "markdown",
   "metadata": {},
   "source": [
    "# Probability\n",
    "\n",
    "Probability is a measure of the likelihood that an event will occur. It is quantified as a number between 0 and 1, where 0 indicates that the event will not occur and 1 indicates certainty that the event will occur. Here’s a brief overview of the key concepts in probability:\n",
    "\n",
    "### Basic Concepts\n",
    "\n",
    "1. **Experiment**: An action or process that leads to one or several outcomes. For example, rolling a die.\n",
    "\n",
    "2. **Outcome**: A possible result of an experiment. For example, getting a 4 when rolling a die.\n",
    "\n",
    "3. **Event**: A set of one or more outcomes. For example, getting an even number when rolling a die (which includes 2, 4, and 6).\n",
    "\n",
    "4. **Sample Space (\\(S\\))**: The set of all possible outcomes of an experiment. For a six-sided die, the sample space is \\( S = \\{1, 2, 3, 4, 5, 6\\} \\).\n",
    "\n",
    "5. **Probability of an Event (\\(P(E)\\))**: The likelihood of the event \\( E \\) occurring. It is calculated by:\n",
    "   \\[\n",
    "   P(E) = \\frac{\\text{Number of favorable outcomes}}{\\text{Total number of possible outcomes}}\n",
    "   \\]\n",
    "\n",
    "### Types of Probability\n",
    "\n",
    "1. **Theoretical Probability**: Based on reasoning and the nature of the experiment. For example, the probability of rolling a 3 on a fair six-sided die is:\n",
    "   \\[\n",
    "   P(\\text{rolling a 3}) = \\frac{1}{6}\n",
    "   \\]\n",
    "\n",
    "2. **Experimental Probability**: Based on actual experiments and observations. It is calculated by:\n",
    "   \\[\n",
    "   P(E) = \\frac{\\text{Number of times event E occurs}}{\\text{Total number of trials}}\n",
    "   \\]\n",
    "\n",
    "3. **Subjective Probability**: Based on intuition, experience, or judgment.\n",
    "\n",
    "### Important Rules and Formulas\n",
    "\n",
    "1. **Complement Rule**: The probability of the complement of an event \\( E \\) (not \\( E \\)) is:\n",
    "   \\[\n",
    "   P(\\text{not } E) = 1 - P(E)\n",
    "   \\]\n",
    "\n",
    "2. **Addition Rule**: For any two events \\( A \\) and \\( B \\):\n",
    "   \\[\n",
    "   P(A \\text{ or } B) = P(A) + P(B) - P(A \\text{ and } B)\n",
    "   \\]\n",
    "\n",
    "   If \\( A \\) and \\( B \\) are mutually exclusive (they cannot happen at the same time):\n",
    "   \\[\n",
    "   P(A \\text{ or } B) = P(A) + P(B)\n",
    "   \\]\n",
    "\n",
    "3. **Multiplication Rule**: For any two independent events \\( A \\) and \\( B \\):\n",
    "   \\[\n",
    "   P(A \\text{ and } B) = P(A) \\times P(B)\n",
    "   \\]\n",
    "\n",
    "### Examples\n",
    "\n",
    "1. **Single Event**: What is the probability of drawing an ace from a standard deck of 52 cards?\n",
    "   \\[\n",
    "   P(\\text{ace}) = \\frac{4}{52} = \\frac{1}{13}\n",
    "   \\]\n",
    "\n",
    "2. **Multiple Events**: What is the probability of rolling a 3 or a 5 on a six-sided die?\n",
    "   \\[\n",
    "   P(\\text{3 or 5}) = P(\\text{3}) + P(\\text{5}) = \\frac{1}{6} + \\frac{1}{6} = \\frac{2}{6} = \\frac{1}{3}\n",
    "   \\]\n",
    "\n",
    "3. **Complementary Events**: What is the probability of not rolling a 6 on a six-sided die?\n",
    "   \\[\n",
    "   P(\\text{not 6}) = 1 - P(\\text{6}) = 1 - \\frac{1}{6} = \\frac{5}{6}\n",
    "   \\]\n",
    "\n",
    "Understanding these basic concepts and rules can help you solve a wide range of probability problems."
   ]
  },
  {
   "cell_type": "code",
   "execution_count": 1,
   "metadata": {},
   "outputs": [
    {
     "name": "stdout",
     "output_type": "stream",
     "text": [
      "[42  2  3  4  5]\n",
      "[1 2 3 4 5]\n"
     ]
    }
   ],
   "source": [
    "import numpy as np\n",
    "\n",
    "arr = np.array([1, 2, 3, 4, 5])\n",
    "x = arr.copy()\n",
    "arr[0] = 42\n",
    "\n",
    "print(arr)\n",
    "print(x)"
   ]
  },
  {
   "cell_type": "code",
   "execution_count": 2,
   "metadata": {},
   "outputs": [
    {
     "name": "stdout",
     "output_type": "stream",
     "text": [
      "[42  2  3  4  5]\n",
      "[42  2  3  4  5]\n"
     ]
    }
   ],
   "source": [
    "import numpy as np\n",
    "\n",
    "arr = np.array([1, 2, 3, 4, 5])\n",
    "x = arr.view()\n",
    "arr[0] = 42\n",
    "\n",
    "print(arr)\n",
    "print(x)\n"
   ]
  },
  {
   "cell_type": "code",
   "execution_count": 3,
   "metadata": {},
   "outputs": [
    {
     "name": "stdout",
     "output_type": "stream",
     "text": [
      "[31  2  3  4  5]\n",
      "[31  2  3  4  5]\n"
     ]
    }
   ],
   "source": [
    "import numpy as np\n",
    "\n",
    "arr = np.array([1, 2, 3, 4, 5])\n",
    "x = arr.view()\n",
    "x[0] = 31\n",
    "\n",
    "print(arr)\n",
    "print(x)"
   ]
  },
  {
   "cell_type": "code",
   "execution_count": 7,
   "metadata": {},
   "outputs": [
    {
     "name": "stdout",
     "output_type": "stream",
     "text": [
      "None\n",
      "[1 2 3 4 5]\n"
     ]
    }
   ],
   "source": [
    "import numpy as np\n",
    "\n",
    "arr = np.array([1, 2, 3, 4, 5])\n",
    "\n",
    "x = arr.copy()\n",
    "y = arr.view()\n",
    "\n",
    "print(x.base)\n",
    "print(y.base)"
   ]
  },
  {
   "cell_type": "code",
   "execution_count": 10,
   "metadata": {},
   "outputs": [
    {
     "data": {
      "text/plain": [
       "array([[1, 2, 3, 4],\n",
       "       [5, 6, 7, 8]])"
      ]
     },
     "execution_count": 10,
     "metadata": {},
     "output_type": "execute_result"
    }
   ],
   "source": [
    "import numpy as np\n",
    "\n",
    "arr = np.array([[1, 2, 3, 4], [5, 6, 7, 8]])\n",
    "arr\n",
    "\n"
   ]
  },
  {
   "cell_type": "code",
   "execution_count": 11,
   "metadata": {},
   "outputs": [
    {
     "name": "stdout",
     "output_type": "stream",
     "text": [
      "(2, 4)\n"
     ]
    }
   ],
   "source": [
    "print(arr.shape)"
   ]
  },
  {
   "cell_type": "code",
   "execution_count": 12,
   "metadata": {},
   "outputs": [
    {
     "name": "stdout",
     "output_type": "stream",
     "text": [
      "[[[[[1 2 3 4]]]]]\n",
      "shape of array : (1, 1, 1, 1, 4)\n"
     ]
    }
   ],
   "source": [
    "import numpy as np\n",
    "\n",
    "arr = np.array([1, 2, 3, 4], ndmin=5)\n",
    "\n",
    "print(arr)\n",
    "print('shape of array :', arr.shape)"
   ]
  }
 ],
 "metadata": {
  "kernelspec": {
   "display_name": "Python 3",
   "language": "python",
   "name": "python3"
  },
  "language_info": {
   "codemirror_mode": {
    "name": "ipython",
    "version": 3
   },
   "file_extension": ".py",
   "mimetype": "text/x-python",
   "name": "python",
   "nbconvert_exporter": "python",
   "pygments_lexer": "ipython3",
   "version": "3.12.0"
  }
 },
 "nbformat": 4,
 "nbformat_minor": 2
}
