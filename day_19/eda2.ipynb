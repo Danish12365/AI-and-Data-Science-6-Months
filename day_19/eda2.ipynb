{
 "cells": [
  {
   "cell_type": "code",
   "execution_count": 1,
   "metadata": {},
   "outputs": [
    {
     "name": "stderr",
     "output_type": "stream",
     "text": [
      "C:\\Users\\Danish\\AppData\\Local\\Temp\\ipykernel_18040\\2259232837.py:1: DeprecationWarning: \n",
      "Pyarrow will become a required dependency of pandas in the next major release of pandas (pandas 3.0),\n",
      "(to allow more performant data types, such as the Arrow string type, and better interoperability with other libraries)\n",
      "but was not found to be installed on your system.\n",
      "If this would cause problems for you,\n",
      "please provide us feedback at https://github.com/pandas-dev/pandas/issues/54466\n",
      "        \n",
      "  import pandas as pd\n"
     ]
    }
   ],
   "source": [
    "import pandas as pd\n",
    "import numpy as np\n",
    "import matplotlib.pyplot as plt\n",
    "import seaborn as sns\n"
   ]
  },
  {
   "cell_type": "code",
   "execution_count": null,
   "metadata": {},
   "outputs": [],
   "source": [
    "# Provided sample data\n",
    "data = {\n",
    "    'Year': [2024, 2023, 2022, 2021, 2020],\n",
    "    'Player_Name': ['Ruturaj Gaikwad'] * 5,\n",
    "    'Matches_Batted': [20, 16, 14, 16, 6],\n",
    "    'Not_Outs': [6, 5, 3, 6, 2],\n",
    "    'Runs_Scored': [146, 590, 368, 635, 204],\n",
    "    'Highest_Score': [30, 92, 99, 101, 75],\n",
    "    'Batting_Average': [30.55, 42.14, 26.29, 45.35, 120.71],\n",
    "    'Balls_Faced': [119, 400, 291, 466, 316],\n",
    "    'Batting_Strike_Rate': [110.6, 147.5, 126.46, 136.26, 140.25],\n",
    "    'Centuries': [0, 0, 0, 1, 0],\n",
    "    'Half_Centuries': [0, 4, 1, 3, 0],\n",
    "    'Fours': [8, 46, 33, 46, 16],\n",
    "    'Sixes': [1, 30, 14, 23, 6],\n",
    "    'Catches_Taken': [0, 3, 4, 6, 0],\n",
    "    'Stumpings': [0, 0, 0, 0, 0],\n",
    "    'Matches_Bowled': [1, 16, 14, 16, 6],\n",
    "    'Balls_Bowled': [20, 300, 333, 236, 166],\n",
    "    'Runs_Conceded': [0, 170, 144, 200, 40],\n",
    "    'Wickets_Taken': [0, 1, 0, 0, 0],\n",
    "    'Best_Bowling_Match': ['0/20', '1/9', '0/33', '0/23', '0/16'],\n",
    "    'Bowling_Average': [0.0, 170.0, 144.0, 0.0, 0.0],\n",
    "    'Economy_Rate': [0.0, 5.67, 4.32, 5.08, 4.81],\n",
    "    'Bowling_Strike_Rate': [0.0, 300.0, 333.0, 0.0, 0.0],\n",
    "    'Four_Wicket_Hauls': [0, 0, 0, 0, 0],\n",
    "    'Five_Wicket_Hauls': [0, 0, 0, 0, 0]\n",
    "}\n",
    "\n",
    "df = pd.DataFrame(data)\n"
   ]
  }
 ],
 "metadata": {
  "kernelspec": {
   "display_name": "Python 3",
   "language": "python",
   "name": "python3"
  },
  "language_info": {
   "codemirror_mode": {
    "name": "ipython",
    "version": 3
   },
   "file_extension": ".py",
   "mimetype": "text/x-python",
   "name": "python",
   "nbconvert_exporter": "python",
   "pygments_lexer": "ipython3",
   "version": "3.12.0"
  }
 },
 "nbformat": 4,
 "nbformat_minor": 2
}
