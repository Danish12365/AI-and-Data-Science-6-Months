{
 "cells": [
  {
   "cell_type": "markdown",
   "metadata": {},
   "source": [
    "# Feature Encoding"
   ]
  },
  {
   "cell_type": "markdown",
   "metadata": {},
   "source": [
    "### 1. One hot encoding"
   ]
  },
  {
   "cell_type": "code",
   "execution_count": 1,
   "metadata": {},
   "outputs": [
    {
     "name": "stdout",
     "output_type": "stream",
     "text": [
      "   Color\n",
      "0    Red\n",
      "1  Green\n",
      "2   Blue\n",
      "3    Red\n",
      "   Color_Blue  Color_Green  Color_Red\n",
      "0       False        False       True\n",
      "1       False         True      False\n",
      "2        True        False      False\n",
      "3       False        False       True\n"
     ]
    }
   ],
   "source": [
    "import pandas as pd\n",
    "# Sample data\n",
    "data = {'Color': ['Red', 'Green', 'Blue', 'Red']}\n",
    "df = pd.DataFrame(data)\n",
    "print(df)\n",
    "# One-Hot Encoding\n",
    "encoded_data = pd.get_dummies(df, columns=['Color'])\n",
    "print(encoded_data)"
   ]
  },
  {
   "cell_type": "markdown",
   "metadata": {},
   "source": [
    "### 2. Label Encoding"
   ]
  },
  {
   "cell_type": "markdown",
   "metadata": {},
   "source": [
    "This is on elphabatic order\n",
    "\n",
    " Animal  Animal_encoded\n",
    "0    Dog               2\n",
    "1    Cat               1\n",
    "2   Bird               0\n",
    "3    Dog               2\n",
    "4   Bird               0"
   ]
  },
  {
   "cell_type": "code",
   "execution_count": 2,
   "metadata": {},
   "outputs": [
    {
     "name": "stdout",
     "output_type": "stream",
     "text": [
      "  Animal\n",
      "0    Dog\n",
      "1    Cat\n",
      "2   Bird\n",
      "3    Dog\n",
      "4   Bird\n",
      "  Animal  Animal_encoded\n",
      "0    Dog               2\n",
      "1    Cat               1\n",
      "2   Bird               0\n",
      "3    Dog               2\n",
      "4   Bird               0\n"
     ]
    }
   ],
   "source": [
    "from sklearn.preprocessing import LabelEncoder\n",
    "# Sample data\n",
    "data = {'Animal': ['Dog', 'Cat', 'Bird', 'Dog', \"Bird\"]}\n",
    "df = pd.DataFrame(data)\n",
    "print(df)\n",
    "\n",
    "# Label Encoding\n",
    "label_encoder = LabelEncoder()\n",
    "df['Animal_encoded'] = label_encoder.fit_transform(df['Animal'])\n",
    "print(df)"
   ]
  },
  {
   "cell_type": "markdown",
   "metadata": {},
   "source": [
    "# 3. Ordinal Encoding"
   ]
  },
  {
   "cell_type": "code",
   "execution_count": 3,
   "metadata": {},
   "outputs": [
    {
     "name": "stdout",
     "output_type": "stream",
     "text": [
      "     Size\n",
      "0   Small\n",
      "1  Medium\n",
      "2   Large\n",
      "3  Medium\n",
      "     Size  Size_encoded\n",
      "0   Small           0.0\n",
      "1  Medium           1.0\n",
      "2   Large           2.0\n",
      "3  Medium           1.0\n"
     ]
    }
   ],
   "source": [
    "from sklearn.preprocessing import OrdinalEncoder\n",
    "# Sample data\n",
    "data = {'Size': ['Small', 'Medium', 'Large', 'Medium']}\n",
    "df = pd.DataFrame(data)\n",
    "print(df)\n",
    "\n",
    "# Ordinal Encoding\n",
    "ordinal_encoder = OrdinalEncoder(categories=[['Small', 'Medium', 'Large']])\n",
    "df['Size_encoded'] = ordinal_encoder.fit_transform(df[['Size']])\n",
    "print(df)"
   ]
  },
  {
   "cell_type": "markdown",
   "metadata": {},
   "source": [
    "# 4. Frequency Encoding\n",
    "\n",
    "Frequency Encoding: Uses category frequencies to encode, preserving information about the category's prevalence.\n",
    "\n",
    "Frequency encoding replaces each category with the frequency of its occurrence."
   ]
  },
  {
   "cell_type": "code",
   "execution_count": 4,
   "metadata": {},
   "outputs": [
    {
     "name": "stdout",
     "output_type": "stream",
     "text": [
      "   color  color_encoded\n",
      "0    red       0.333333\n",
      "1  green       0.333333\n",
      "2   blue       0.333333\n",
      "3  green       0.333333\n",
      "4   blue       0.333333\n",
      "5    red       0.333333\n"
     ]
    }
   ],
   "source": [
    "import pandas as pd\n",
    "\n",
    "data = pd.DataFrame({\n",
    "    'color': ['red', 'green', 'blue', 'green', 'blue', 'red']\n",
    "})\n",
    "\n",
    "frequency_encoding = data['color'].value_counts(normalize=True)\n",
    "data['color_encoded'] = data['color'].map(frequency_encoding)\n",
    "print(data)\n"
   ]
  },
  {
   "cell_type": "markdown",
   "metadata": {},
   "source": [
    "# 5. Target Encoding\n",
    "Target encoding involves replacing a categorical value with the mean of the target variable for that category.\n",
    "\n",
    "Target Encoding: Encodes based on the target variable's mean value per category, useful for certain supervised learning tasks."
   ]
  },
  {
   "cell_type": "code",
   "execution_count": 5,
   "metadata": {},
   "outputs": [
    {
     "name": "stdout",
     "output_type": "stream",
     "text": [
      "   color  target  color_encoded\n",
      "0    red       1            0.5\n",
      "1  green       0            0.5\n",
      "2   blue       1            0.5\n",
      "3  green       1            0.5\n",
      "4   blue       0            0.5\n",
      "5    red       0            0.5\n"
     ]
    }
   ],
   "source": [
    "import pandas as pd\n",
    "\n",
    "data = pd.DataFrame({\n",
    "    'color': ['red', 'green', 'blue', 'green', 'blue', 'red'],\n",
    "    'target': [1, 0, 1, 1, 0, 0]\n",
    "})\n",
    "\n",
    "# Calculate the mean of the target variable for each category\n",
    "mean_encoded = data.groupby('color')['target'].mean()\n",
    "data['color_encoded'] = data['color'].map(mean_encoded)\n",
    "print(data)\n"
   ]
  },
  {
   "cell_type": "markdown",
   "metadata": {},
   "source": [
    "#  6. Hashing Encoding\n",
    "Hashing encoding uses a hash function to convert categories into numerical values. This method is useful for high-cardinality categorical variables.\n",
    "\n",
    "Hashing Encoding: Efficient for high-cardinality features, though it may introduce collisions."
   ]
  },
  {
   "cell_type": "code",
   "execution_count": null,
   "metadata": {},
   "outputs": [],
   "source": [
    "import pandas as pd\n",
    "from sklearn.feature_extraction import FeatureHasher\n",
    "\n",
    "data = pd.DataFrame({\n",
    "    'color': ['red', 'green', 'blue', 'green', 'blue', 'red']\n",
    "})\n",
    "\n",
    "hasher = FeatureHasher(input_type='string', n_features=5)\n",
    "hashed_features = hasher.transform(data['color'])\n",
    "hashed_data = pd.DataFrame(hashed_features.toarray(), columns=[f'feature_{i}' for i in range(hashed_features.shape[1])])\n",
    "print(hashed_data)\n"
   ]
  },
  {
   "cell_type": "code",
   "execution_count": 8,
   "metadata": {},
   "outputs": [
    {
     "name": "stdout",
     "output_type": "stream",
     "text": [
      "   feature_0  feature_1  feature_2  feature_3  feature_4\n",
      "0       -1.0        0.0        0.0        0.0        0.0\n",
      "1        0.0        0.0        0.0        0.0        1.0\n",
      "2       -1.0        0.0        0.0        0.0        0.0\n",
      "3        0.0        0.0        0.0        0.0        1.0\n",
      "4       -1.0        0.0        0.0        0.0        0.0\n",
      "5       -1.0        0.0        0.0        0.0        0.0\n"
     ]
    }
   ],
   "source": [
    "import pandas as pd\n",
    "from sklearn.feature_extraction import FeatureHasher\n",
    "\n",
    "data = pd.DataFrame({\n",
    "    'color': ['red', 'green', 'blue', 'green', 'blue', 'red']\n",
    "})\n",
    "\n",
    "# Convert the column to a list of lists\n",
    "color_list = data['color'].apply(lambda x: [x]).tolist()\n",
    "\n",
    "hasher = FeatureHasher(input_type='string', n_features=5)\n",
    "hashed_features = hasher.transform(color_list)\n",
    "hashed_data = pd.DataFrame(hashed_features.toarray(), columns=[f'feature_{i}' for i in range(hashed_features.shape[1])])\n",
    "print(hashed_data)\n"
   ]
  },
  {
   "cell_type": "markdown",
   "metadata": {},
   "source": [
    "# How to do Data Feature Encoding  in Python \n",
    "\n",
    "Data feature encoding is an essential preprocessing step that involves transforming categorical data into numerical formats that machine learning models can interpret. There are several methods for feature encoding in Python, most commonly using the `pandas` and `scikit-learn` libraries. Below are the primary methods of feature encoding:\n",
    "\n",
    "### 1. One-Hot Encoding\n",
    "\n",
    "One-hot encoding converts categorical variables into a series of binary columns. Each category value is converted into a column, and an observation is marked with a 1 in the column corresponding to its category.\n",
    "\n",
    "```python\n",
    "import pandas as pd\n",
    "\n",
    "data = pd.DataFrame({\n",
    "    'color': ['red', 'green', 'blue', 'green', 'blue', 'red']\n",
    "})\n",
    "\n",
    "# Using pandas get_dummies\n",
    "one_hot_encoded_data = pd.get_dummies(data, columns=['color'])\n",
    "print(one_hot_encoded_data)\n",
    "```\n",
    "\n",
    "### 2. Label Encoding\n",
    "\n",
    "Label encoding converts categorical values into integer values. Each unique category is assigned a unique integer.\n",
    "\n",
    "```python\n",
    "from sklearn.preprocessing import LabelEncoder\n",
    "\n",
    "data = pd.DataFrame({\n",
    "    'color': ['red', 'green', 'blue', 'green', 'blue', 'red']\n",
    "})\n",
    "\n",
    "label_encoder = LabelEncoder()\n",
    "data['color_encoded'] = label_encoder.fit_transform(data['color'])\n",
    "print(data)\n",
    "```\n",
    "\n",
    "### 3. Ordinal Encoding\n",
    "\n",
    "Ordinal encoding is similar to label encoding, but it is used when the categorical values have an inherent order or ranking.\n",
    "\n",
    "```python\n",
    "import pandas as pd\n",
    "from sklearn.preprocessing import OrdinalEncoder\n",
    "\n",
    "data = pd.DataFrame({\n",
    "    'size': ['small', 'medium', 'large', 'medium', 'large', 'small']\n",
    "})\n",
    "\n",
    "ordinal_encoder = OrdinalEncoder(categories=[['small', 'medium', 'large']])\n",
    "data['size_encoded'] = ordinal_encoder.fit_transform(data[['size']])\n",
    "print(data)\n",
    "```\n",
    "\n",
    "### 4. Frequency Encoding\n",
    "\n",
    "Frequency encoding replaces each category with the frequency of its occurrence.\n",
    "\n",
    "```python\n",
    "import pandas as pd\n",
    "\n",
    "data = pd.DataFrame({\n",
    "    'color': ['red', 'green', 'blue', 'green', 'blue', 'red']\n",
    "})\n",
    "\n",
    "frequency_encoding = data['color'].value_counts(normalize=True)\n",
    "data['color_encoded'] = data['color'].map(frequency_encoding)\n",
    "print(data)\n",
    "```\n",
    "\n",
    "### 5. Target Encoding\n",
    "\n",
    "Target encoding involves replacing a categorical value with the mean of the target variable for that category.\n",
    "\n",
    "```python\n",
    "import pandas as pd\n",
    "\n",
    "data = pd.DataFrame({\n",
    "    'color': ['red', 'green', 'blue', 'green', 'blue', 'red'],\n",
    "    'target': [1, 0, 1, 1, 0, 0]\n",
    "})\n",
    "\n",
    "# Calculate the mean of the target variable for each category\n",
    "mean_encoded = data.groupby('color')['target'].mean()\n",
    "data['color_encoded'] = data['color'].map(mean_encoded)\n",
    "print(data)\n",
    "```\n",
    "\n",
    "### 6. Hashing Encoding\n",
    "\n",
    "Hashing encoding uses a hash function to convert categories into numerical values. This method is useful for high-cardinality categorical variables.\n",
    "\n",
    "```python\n",
    "import pandas as pd\n",
    "from sklearn.feature_extraction import FeatureHasher\n",
    "\n",
    "data = pd.DataFrame({\n",
    "    'color': ['red', 'green', 'blue', 'green', 'blue', 'red']\n",
    "})\n",
    "\n",
    "hasher = FeatureHasher(input_type='string', n_features=5)\n",
    "hashed_features = hasher.transform(data['color'])\n",
    "hashed_data = pd.DataFrame(hashed_features.toarray(), columns=[f'feature_{i}' for i in range(hashed_features.shape[1])])\n",
    "print(hashed_data)\n",
    "```\n",
    "\n",
    "### Example Code\n",
    "\n",
    "Here’s a comprehensive example that demonstrates several encoding techniques on a sample dataset:\n",
    "\n",
    "```python\n",
    "import pandas as pd\n",
    "from sklearn.preprocessing import LabelEncoder, OneHotEncoder, OrdinalEncoder\n",
    "\n",
    "# Sample Data\n",
    "data = pd.DataFrame({\n",
    "    'color': ['red', 'green', 'blue', 'green', 'blue', 'red'],\n",
    "    'size': ['small', 'medium', 'large', 'medium', 'large', 'small'],\n",
    "    'target': [1, 0, 1, 1, 0, 0]\n",
    "})\n",
    "\n",
    "# One-Hot Encoding\n",
    "one_hot_encoded = pd.get_dummies(data, columns=['color'])\n",
    "print(\"One-Hot Encoded Data:\\n\", one_hot_encoded)\n",
    "\n",
    "# Label Encoding\n",
    "label_encoder = LabelEncoder()\n",
    "data['color_label_encoded'] = label_encoder.fit_transform(data['color'])\n",
    "print(\"Label Encoded Data:\\n\", data)\n",
    "\n",
    "# Ordinal Encoding\n",
    "ordinal_encoder = OrdinalEncoder(categories=[['small', 'medium', 'large']])\n",
    "data['size_ordinal_encoded'] = ordinal_encoder.fit_transform(data[['size']])\n",
    "print(\"Ordinal Encoded Data:\\n\", data)\n",
    "\n",
    "# Frequency Encoding\n",
    "frequency_encoding = data['color'].value_counts(normalize=True)\n",
    "data['color_frequency_encoded'] = data['color'].map(frequency_encoding)\n",
    "print(\"Frequency Encoded Data:\\n\", data)\n",
    "\n",
    "# Target Encoding\n",
    "mean_encoded = data.groupby('color')['target'].mean()\n",
    "data['color_target_encoded'] = data['color'].map(mean_encoded)\n",
    "print(\"Target Encoded Data:\\n\", data)\n",
    "```\n",
    "\n",
    "### Summary\n",
    "\n",
    "- **One-Hot Encoding:** Useful for nominal categorical variables without an inherent order.\n",
    "- **Label Encoding:** Simple and quick, but can impose an unintended ordinal relationship.\n",
    "- **Ordinal Encoding:** Best for ordinal categorical variables with a clear order.\n",
    "- **Frequency Encoding:** Uses category frequencies to encode, preserving information about the category's prevalence.\n",
    "- **Target Encoding:** Encodes based on the target variable's mean value per category, useful for certain supervised learning tasks.\n",
    "- **Hashing Encoding:** Efficient for high-cardinality features, though it may introduce collisions.\n",
    "\n",
    "Choose the encoding technique based on your data characteristics and the requirements of your machine learning model."
   ]
  }
 ],
 "metadata": {
  "kernelspec": {
   "display_name": "Python 3",
   "language": "python",
   "name": "python3"
  },
  "language_info": {
   "codemirror_mode": {
    "name": "ipython",
    "version": 3
   },
   "file_extension": ".py",
   "mimetype": "text/x-python",
   "name": "python",
   "nbconvert_exporter": "python",
   "pygments_lexer": "ipython3",
   "version": "3.12.0"
  }
 },
 "nbformat": 4,
 "nbformat_minor": 2
}
