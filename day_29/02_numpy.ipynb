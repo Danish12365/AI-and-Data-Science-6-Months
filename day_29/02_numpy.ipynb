{
 "cells": [
  {
   "cell_type": "markdown",
   "metadata": {},
   "source": [
    "# Mastering NumPy (Part-2)"
   ]
  },
  {
   "cell_type": "code",
   "execution_count": 1,
   "metadata": {},
   "outputs": [],
   "source": [
    "import numpy as np"
   ]
  },
  {
   "cell_type": "code",
   "execution_count": 2,
   "metadata": {},
   "outputs": [
    {
     "name": "stdout",
     "output_type": "stream",
     "text": [
      "[[3.47739925e-081 2.12856511e+160 1.73296503e+185]\n",
      " [7.67662611e-042 1.79177951e+160 1.29441776e-312]]\n",
      "--------------\n",
      "[7.67662611e-042 1.79177951e+160 1.29441776e-312]\n"
     ]
    }
   ],
   "source": [
    "empty = np.empty((2,3))\n",
    "print(empty)\n",
    "print(\"--------------\")\n",
    "print(empty[1])"
   ]
  },
  {
   "cell_type": "code",
   "execution_count": 3,
   "metadata": {},
   "outputs": [
    {
     "name": "stdout",
     "output_type": "stream",
     "text": [
      "[[0. 0. 0. 0.]\n",
      " [0. 0. 0. 0.]]\n",
      "--------------\n",
      "[0. 0. 0. 0.]\n"
     ]
    }
   ],
   "source": [
    "empty = np.empty((2,4))\n",
    "print(empty)\n",
    "print(\"--------------\")\n",
    "print(empty[1])"
   ]
  },
  {
   "cell_type": "code",
   "execution_count": 5,
   "metadata": {},
   "outputs": [
    {
     "data": {
      "text/plain": [
       "array([0, 1, 2, 3, 4, 5])"
      ]
     },
     "execution_count": 5,
     "metadata": {},
     "output_type": "execute_result"
    }
   ],
   "source": [
    "a = np.arange(6)\n",
    "a"
   ]
  },
  {
   "cell_type": "code",
   "execution_count": 8,
   "metadata": {},
   "outputs": [
    {
     "data": {
      "text/plain": [
       "array([ 2,  4,  6,  8, 10, 12, 14, 16, 18, 20, 22, 24, 26, 28])"
      ]
     },
     "execution_count": 8,
     "metadata": {},
     "output_type": "execute_result"
    }
   ],
   "source": [
    "# array of even numbers from 0 to 30\n",
    "even = np.arange(2, 30, 2)\n",
    "even"
   ]
  },
  {
   "cell_type": "code",
   "execution_count": 10,
   "metadata": {},
   "outputs": [
    {
     "data": {
      "text/plain": [
       "array([ 1,  3,  5,  7,  9, 11, 13, 15, 17, 19, 21, 23, 25, 27, 29])"
      ]
     },
     "execution_count": 10,
     "metadata": {},
     "output_type": "execute_result"
    }
   ],
   "source": [
    "# array of odd numbers from  1 to 31\n",
    "odd_numbers = np.arange(1, 31, 2)\n",
    "odd_numbers"
   ]
  },
  {
   "cell_type": "code",
   "execution_count": 12,
   "metadata": {},
   "outputs": [
    {
     "data": {
      "text/plain": [
       "array([ 0.  ,  0.15,  0.3 ,  0.45,  0.6 ,  0.75,  0.9 ,  1.05,  1.2 ,\n",
       "        1.35,  1.5 ,  1.65,  1.8 ,  1.95,  2.1 ,  2.25,  2.4 ,  2.55,\n",
       "        2.7 ,  2.85,  3.  ,  3.15,  3.3 ,  3.45,  3.6 ,  3.75,  3.9 ,\n",
       "        4.05,  4.2 ,  4.35,  4.5 ,  4.65,  4.8 ,  4.95,  5.1 ,  5.25,\n",
       "        5.4 ,  5.55,  5.7 ,  5.85,  6.  ,  6.15,  6.3 ,  6.45,  6.6 ,\n",
       "        6.75,  6.9 ,  7.05,  7.2 ,  7.35,  7.5 ,  7.65,  7.8 ,  7.95,\n",
       "        8.1 ,  8.25,  8.4 ,  8.55,  8.7 ,  8.85,  9.  ,  9.15,  9.3 ,\n",
       "        9.45,  9.6 ,  9.75,  9.9 , 10.05, 10.2 , 10.35, 10.5 , 10.65,\n",
       "       10.8 , 10.95, 11.1 , 11.25, 11.4 , 11.55, 11.7 , 11.85, 12.  ,\n",
       "       12.15, 12.3 , 12.45, 12.6 , 12.75, 12.9 , 13.05, 13.2 , 13.35,\n",
       "       13.5 , 13.65, 13.8 , 13.95, 14.1 , 14.25, 14.4 , 14.55, 14.7 ,\n",
       "       14.85, 15.  , 15.15, 15.3 , 15.45, 15.6 , 15.75, 15.9 , 16.05,\n",
       "       16.2 , 16.35, 16.5 , 16.65, 16.8 , 16.95, 17.1 , 17.25, 17.4 ,\n",
       "       17.55, 17.7 , 17.85, 18.  , 18.15, 18.3 , 18.45, 18.6 , 18.75,\n",
       "       18.9 , 19.05, 19.2 , 19.35, 19.5 , 19.65, 19.8 , 19.95, 20.1 ,\n",
       "       20.25, 20.4 , 20.55, 20.7 , 20.85, 21.  , 21.15, 21.3 , 21.45,\n",
       "       21.6 , 21.75, 21.9 , 22.05, 22.2 , 22.35, 22.5 , 22.65, 22.8 ,\n",
       "       22.95])"
      ]
     },
     "execution_count": 12,
     "metadata": {},
     "output_type": "execute_result"
    }
   ],
   "source": [
    "# specific differnce between numbers\n",
    "diff = np.arange(0, 23, 0.15) # o.15 is the difference between numbers\n",
    "diff"
   ]
  },
  {
   "cell_type": "code",
   "execution_count": 13,
   "metadata": {},
   "outputs": [
    {
     "data": {
      "text/plain": [
       "array([ 0. ,  2.5,  5. ,  7.5, 10. ])"
      ]
     },
     "execution_count": 13,
     "metadata": {},
     "output_type": "execute_result"
    }
   ],
   "source": [
    "linear = np.linspace(0, 10, num=5) # it make the line in a specified interval\n",
    "linear"
   ]
  },
  {
   "cell_type": "code",
   "execution_count": 14,
   "metadata": {},
   "outputs": [
    {
     "data": {
      "text/plain": [
       "array([1, 1], dtype=int64)"
      ]
     },
     "execution_count": 14,
     "metadata": {},
     "output_type": "execute_result"
    }
   ],
   "source": [
    "x = np.ones(2, dtype=np.int64)\n",
    "x"
   ]
  },
  {
   "cell_type": "markdown",
   "metadata": {},
   "source": [
    "# Assighnment: What is the difference between int32,64 and float 32,64,  16.....and meaning?why do we use one and not  the other?\n",
    "\n",
    "The differences between `int32`, `int64`, `float16`, `float32`, and `float64` lie in their size, range, precision, and typical usage scenarios. Here’s a detailed breakdown:\n",
    "\n",
    "### Integer Types\n",
    "\n",
    "1. **`int32`**:\n",
    "   - **Size**: 32 bits (4 bytes)\n",
    "   - **Range**: \\(-2^{31}\\) to \\(2^{31}-1\\) (approximately -2.1 billion to 2.1 billion)\n",
    "   - **Usage**: Suitable for most applications requiring whole numbers within this range. Commonly used when memory efficiency is important, and the range is adequate.\n",
    "\n",
    "2. **`int64`**:\n",
    "   - **Size**: 64 bits (8 bytes)\n",
    "   - **Range**: \\(-2^{63}\\) to \\(2^{63}-1\\) (approximately -9.2 quintillion to 9.2 quintillion)\n",
    "   - **Usage**: Used when dealing with very large numbers that exceed the range of `int32`. Necessary for applications like large-scale data processing, high-precision timing, and large financial calculations.\n",
    "\n",
    "### Floating-Point Types\n",
    "\n",
    "1. **`float16`** (Half Precision):\n",
    "   - **Size**: 16 bits (2 bytes)\n",
    "   - **Range**: Approximately \\(6.10 \\times 10^{-5}\\) to \\(6.55 \\times 10^4\\)\n",
    "   - **Precision**: About 3-4 decimal digits\n",
    "   - **Usage**: Used in machine learning models and GPUs where memory efficiency is crucial, and the precision requirement is lower. It allows for faster computations due to smaller size.\n",
    "\n",
    "2. **`float32`** (Single Precision):\n",
    "   - **Size**: 32 bits (4 bytes)\n",
    "   - **Range**: Approximately \\(1.18 \\times 10^{-38}\\) to \\(3.4 \\times 10^{38}\\)\n",
    "   - **Precision**: About 7-8 decimal digits\n",
    "   - **Usage**: Commonly used in scientific computations, graphics, and machine learning. Provides a balance between range, precision, and memory usage. Preferred in many applications due to its efficiency and adequate precision.\n",
    "\n",
    "3. **`float64`** (Double Precision):\n",
    "   - **Size**: 64 bits (8 bytes)\n",
    "   - **Range**: Approximately \\(2.23 \\times 10^{-308}\\) to \\(1.8 \\times 10^{308}\\)\n",
    "   - **Precision**: About 15-16 decimal digits\n",
    "   - **Usage**: Used in applications requiring high precision and a wide range of values, such as scientific simulations, financial calculations, and certain data analysis tasks. Necessary when precision is critical.\n",
    "\n",
    "### Why Use One and Not the Other?\n",
    "\n",
    "#### Memory Usage\n",
    "- **Smaller Types (`int32`, `float16`, `float32`)**:\n",
    "  - Consume less memory, which is beneficial when dealing with large datasets or when memory resources are limited.\n",
    "  - Can lead to faster data processing and computation, especially on GPUs and in parallel processing environments.\n",
    "\n",
    "- **Larger Types (`int64`, `float64`)**:\n",
    "  - Consume more memory but provide a larger range and higher precision.\n",
    "  - Essential when the data values exceed the range of smaller types or when higher precision is required to avoid significant numerical errors.\n",
    "\n",
    "#### Performance\n",
    "- **Smaller Types**: Often result in faster computations and reduced memory bandwidth, which is crucial in high-performance computing scenarios like deep learning and real-time processing.\n",
    "- **Larger Types**: May lead to slower computations due to increased memory usage and more complex arithmetic operations but are necessary for accurate results in certain applications.\n",
    "\n",
    "#### Precision and Range\n",
    "- **Integers (`int32`, `int64`)**: Used based on the range of values. For example, `int32` is sufficient for indexing arrays, while `int64` might be needed for counting large items.\n",
    "- **Floating-Point (`float16`, `float32`, `float64`)**: Chosen based on the required precision and range. `float32` is generally adequate for many applications, but `float64` is used when higher precision is necessary.\n",
    "\n",
    "### Practical Considerations in Data Science\n",
    "\n",
    "- **Memory and Performance**: When working with large datasets, using smaller data types can significantly reduce memory usage and increase computational speed. This is particularly important in machine learning and data analytics.\n",
    "- **Precision**: In applications where numerical precision is crucial, such as financial modeling or scientific simulations, using `float64` can prevent rounding errors and ensure accuracy.\n",
    "- **Compatibility**: Sometimes the choice of data type is influenced by the requirements of the tools and libraries being used, which might support or optimize for certain data types.\n",
    "\n",
    "By carefully selecting the appropriate data type, you can optimize both the performance and accuracy of your programs."
   ]
  },
  {
   "cell_type": "code",
   "execution_count": 15,
   "metadata": {},
   "outputs": [
    {
     "data": {
      "text/plain": [
       "array([2, 1, 5, 3, 7, 4, 6, 8])"
      ]
     },
     "execution_count": 15,
     "metadata": {},
     "output_type": "execute_result"
    }
   ],
   "source": [
    "arr = np.array([2, 1, 5, 3, 7, 4, 6, 8])\n",
    "arr"
   ]
  },
  {
   "cell_type": "code",
   "execution_count": 16,
   "metadata": {},
   "outputs": [
    {
     "data": {
      "text/plain": [
       "array([1, 2, 3, 4, 5, 6, 7, 8])"
      ]
     },
     "execution_count": 16,
     "metadata": {},
     "output_type": "execute_result"
    }
   ],
   "source": [
    "np.sort(arr)"
   ]
  },
  {
   "cell_type": "code",
   "execution_count": 17,
   "metadata": {},
   "outputs": [],
   "source": [
    "a = np.array([1, 2, 3, 4])\n",
    "b = np.array([5, 6, 7, 8])"
   ]
  },
  {
   "cell_type": "code",
   "execution_count": 18,
   "metadata": {},
   "outputs": [
    {
     "data": {
      "text/plain": [
       "array([1, 2, 3, 4, 5, 6, 7, 8])"
      ]
     },
     "execution_count": 18,
     "metadata": {},
     "output_type": "execute_result"
    }
   ],
   "source": [
    "#  concatenate them with np.concatenate().\n",
    "np.concatenate((a, b))"
   ]
  },
  {
   "cell_type": "markdown",
   "metadata": {},
   "source": [
    "# Concatenate 2D Arrays"
   ]
  },
  {
   "cell_type": "code",
   "execution_count": 19,
   "metadata": {},
   "outputs": [],
   "source": [
    "x = np.array([[1, 2], [3, 4]])  # 2*2 array\n",
    "y = np.array([[5, 6]])         # 1*2 array"
   ]
  },
  {
   "cell_type": "code",
   "execution_count": 20,
   "metadata": {},
   "outputs": [
    {
     "data": {
      "text/plain": [
       "array([[1, 2],\n",
       "       [3, 4],\n",
       "       [5, 6]])"
      ]
     },
     "execution_count": 20,
     "metadata": {},
     "output_type": "execute_result"
    }
   ],
   "source": [
    "np.concatenate((x, y), axis=0)"
   ]
  },
  {
   "cell_type": "code",
   "execution_count": 21,
   "metadata": {},
   "outputs": [],
   "source": [
    "w = np.array([[5,1], [7,1]])\n",
    "x = np.array([[1, 2], [3, 4]])  # 2*2 array"
   ]
  },
  {
   "cell_type": "code",
   "execution_count": 22,
   "metadata": {},
   "outputs": [
    {
     "data": {
      "text/plain": [
       "array([[5, 1, 1, 2],\n",
       "       [7, 1, 3, 4]])"
      ]
     },
     "execution_count": 22,
     "metadata": {},
     "output_type": "execute_result"
    }
   ],
   "source": [
    "z1 = np.concatenate((w,x),axis=1)\n",
    "z1"
   ]
  }
 ],
 "metadata": {
  "kernelspec": {
   "display_name": "Python 3",
   "language": "python",
   "name": "python3"
  },
  "language_info": {
   "codemirror_mode": {
    "name": "ipython",
    "version": 3
   },
   "file_extension": ".py",
   "mimetype": "text/x-python",
   "name": "python",
   "nbconvert_exporter": "python",
   "pygments_lexer": "ipython3",
   "version": "3.12.0"
  }
 },
 "nbformat": 4,
 "nbformat_minor": 2
}
