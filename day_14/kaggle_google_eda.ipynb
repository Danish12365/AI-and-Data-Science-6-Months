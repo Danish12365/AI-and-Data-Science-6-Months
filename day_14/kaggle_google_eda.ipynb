{
 "cells": [
  {
   "cell_type": "markdown",
   "metadata": {},
   "source": [
    "# Google App store EDA\n",
    "\n",
    "**Author Name:** Danish Azeem\\\n",
    "**Email:** danishazeem365@gmail.com"
   ]
  },
  {
   "cell_type": "markdown",
   "metadata": {},
   "source": [
    "**Assighnment:**\n",
    " \n",
    "1.Download the data\\\n",
    "2.Extrect data from zip file\\\n",
    "3.Load data into pandas\\\n",
    "4.check each column\\\n",
    "5.Define each column in MD style"
   ]
  },
  {
   "cell_type": "code",
   "execution_count": 1,
   "metadata": {},
   "outputs": [
    {
     "name": "stderr",
     "output_type": "stream",
     "text": [
      "C:\\Users\\Danish\\AppData\\Roaming\\Python\\Python39\\site-packages\\tqdm\\auto.py:21: TqdmWarning: IProgress not found. Please update jupyter and ipywidgets. See https://ipywidgets.readthedocs.io/en/stable/user_install.html\n",
      "  from .autonotebook import tqdm as notebook_tqdm\n"
     ]
    }
   ],
   "source": [
    "# import librares\n",
    "import pandas as pd\n",
    "import ydata_profiling as yp\n"
   ]
  },
  {
   "cell_type": "code",
   "execution_count": 2,
   "metadata": {},
   "outputs": [],
   "source": [
    "df = pd.read_csv('.\\googleplaystore.csv')"
   ]
  },
  {
   "cell_type": "code",
   "execution_count": 3,
   "metadata": {},
   "outputs": [
    {
     "name": "stderr",
     "output_type": "stream",
     "text": [
      "Summarize dataset:  75%|███████▌  | 15/20 [00:03<00:01,  4.72it/s, Calculate auto correlation]     C:\\Users\\Danish\\AppData\\Roaming\\Python\\Python39\\site-packages\\ydata_profiling\\model\\correlations.py:66: UserWarning: There was an attempt to calculate the auto correlation, but this failed.\n",
      "To hide this warning, disable the calculation\n",
      "(using `df.profile_report(correlations={\"auto\": {\"calculate\": False}})`\n",
      "If this is problematic for your use case, please report this as an issue:\n",
      "https://github.com/ydataai/ydata-profiling/issues\n",
      "(include the error message: 'could not convert string to float: '4.0.3 and up'')\n",
      "  warnings.warn(\n",
      "Summarize dataset:  81%|████████▏ | 22/27 [00:05<00:01,  3.14it/s, Missing diagram heatmap]   C:\\Users\\Danish\\AppData\\Roaming\\Python\\Python39\\site-packages\\seaborn\\matrix.py:260: FutureWarning: Format strings passed to MaskedConstant are ignored, but in future may error or produce different behavior\n",
      "  annotation = (\"{:\" + self.fmt + \"}\").format(val)\n",
      "C:\\Users\\Danish\\AppData\\Roaming\\Python\\Python39\\site-packages\\ydata_profiling\\model\\missing.py:78: UserWarning: There was an attempt to generate the Heatmap missing values diagrams, but this failed.\n",
      "To hide this warning, disable the calculation\n",
      "(using `df.profile_report(missing_diagrams={\"Heatmap\": False}`)\n",
      "If this is problematic for your use case, please report this as an issue:\n",
      "https://github.com/ydataai/ydata-profiling/issues\n",
      "(include the error message: 'could not convert string to float: '--'')\n",
      "  warnings.warn(\n",
      "Summarize dataset: 100%|██████████| 27/27 [00:05<00:00,  4.57it/s, Completed]               \n",
      "Generate report structure: 100%|██████████| 1/1 [00:08<00:00,  8.68s/it]\n",
      "Render HTML: 100%|██████████| 1/1 [00:01<00:00,  1.81s/it]\n",
      "Export report to file: 100%|██████████| 1/1 [00:00<00:00, 50.29it/s]\n"
     ]
    }
   ],
   "source": [
    "profile  = yp.ProfileReport(df)\n",
    "profile.to_file(output_file=\"./outputs/google_app_store.html\")"
   ]
  }
 ],
 "metadata": {
  "kernelspec": {
   "display_name": "tf_env",
   "language": "python",
   "name": "python3"
  },
  "language_info": {
   "codemirror_mode": {
    "name": "ipython",
    "version": 3
   },
   "file_extension": ".py",
   "mimetype": "text/x-python",
   "name": "python",
   "nbconvert_exporter": "python",
   "pygments_lexer": "ipython3",
   "version": "3.12.0"
  }
 },
 "nbformat": 4,
 "nbformat_minor": 2
}
