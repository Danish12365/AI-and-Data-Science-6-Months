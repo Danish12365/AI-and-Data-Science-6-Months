{
 "cells": [
  {
   "cell_type": "markdown",
   "metadata": {},
   "source": [
    "Outliers: Outliers are data points in a dataset that deviate significantly from the rest of the observations.\n",
    "——————–\n",
    "Type of Outliers:\n",
    "1. Global Outlier\n",
    "2. Contextual Outlier\n",
    "3. Collective Outlier\n",
    "——————–\n",
    "How to detect them?\n",
    "1. Visually (Boxplot, Scatterplot, Histogram)\n",
    "2. Interquartile range (IQR) Method\n",
    "3. Z-Score method                    Z-score > 3 ya < -3 ho toh woh outlier maana jata hai.\n",
    "——————–\n",
    "How to deal with them?\n",
    "1. Delete them\n",
    "2. Transform them (log transformation, etc.)\n",
    "3. Impute them (mean, median, mode, etc.)\n",
    "4. Use Truncation or Capping\n",
    "5. Use robust models (But it will limit the models we can use)\n",
    "In Python, outliers in a dataset can be identified using various statistical methods and visualization techniques. Here's how you can detect outliers using Python:"
   ]
  },
  {
   "cell_type": "markdown",
   "metadata": {},
   "source": [
    "**Definition of Outliers:**\n",
    "Outliers are data points that significantly differ from other observations in a dataset. They may be unusually high or low in value compared to the majority of the data points and can skew statistical analyses and machine learning models if not properly handled.\n",
    "\n",
    "**Types of Outliers:**\n",
    "1. **Univariate Outliers:** These outliers occur when a data point in a single feature variable is significantly different from other data points in that feature.\n",
    "2. **Multivariate Outliers:** These outliers occur when observations in multiple feature variables are collectively unusual compared to the rest of the dataset.\n",
    "3. **Global Outliers:** Also known as global anomalies, these outliers are unusual across the entire dataset.\n",
    "4. **Contextual Outliers:** Also known as conditional anomalies, these outliers are only unusual within specific contexts or subsets of the data.\n",
    "\n",
    "**Detection Methods for Outliers:**\n",
    "1. **Statistical Methods:**\n",
    "   - Z-Score Method\n",
    "   - Interquartile Range (IQR) Method\n",
    "   - Modified Z-Score Method\n",
    "   - Tukey's Fences\n",
    "   - Median Absolute Deviation (MAD)\n",
    "   \n",
    "2. **Visualization Techniques:**\n",
    "   - Box Plot\n",
    "   - Histogram\n",
    "   - Scatter Plot\n",
    "   - QQ Plot\n",
    "   - Density Plot\n",
    "   \n",
    "**Handling Outliers:**\n",
    "Once outliers are identified, they can be handled in several ways:\n",
    "- Removal: Remove outliers from the dataset.\n",
    "- Transformation: Apply transformations such as logarithmic transformation to make the data more normally distributed.\n",
    "- Imputation: Replace outliers with the mean, median, or another suitable value.\n",
    "- Binning: Group outliers into a separate category or bin.\n",
    "- Robust Models: Use models that are less sensitive to outliers, such as robust regression or tree-based algorithms.\n",
    "\n",
    "**Importance:**\n",
    "- Outliers can significantly impact statistical analyses and machine learning models, leading to inaccurate results and conclusions.\n",
    "- Identifying and properly handling outliers is crucial for ensuring the validity and reliability of data-driven decisions and insights.\n",
    "- Outliers may contain valuable information or indicate errors in data collection, so understanding their nature is essential for effective data analysis and interpretation."
   ]
  },
  {
   "cell_type": "markdown",
   "metadata": {},
   "source": [
    "git config --global user.name \"Danish12365\"\n",
    "git config --global user.gmail \"danishazeem365@gmail.com\"\n",
    "git push origin AI-and-Data-Science-6-Months\n",
    "git pull --rebase origin main\n"
   ]
  }
 ],
 "metadata": {
  "kernelspec": {
   "display_name": "Python 3",
   "language": "python",
   "name": "python3"
  },
  "language_info": {
   "name": "python",
   "version": "3.12.0"
  }
 },
 "nbformat": 4,
 "nbformat_minor": 2
}
