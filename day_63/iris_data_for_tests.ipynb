{
 "cells": [
  {
   "cell_type": "markdown",
   "metadata": {},
   "source": [
    "# Statistical Analyses"
   ]
  },
  {
   "cell_type": "code",
   "execution_count": 1,
   "metadata": {},
   "outputs": [],
   "source": [
    "import pandas as pd\n",
    "import numpy as np\n",
    "import seaborn as sns\n",
    "import matplotlib.pyplot as plt\n",
    "from scipy import stats "
   ]
  },
  {
   "cell_type": "code",
   "execution_count": 6,
   "metadata": {},
   "outputs": [
    {
     "data": {
      "text/html": [
       "<div>\n",
       "<style scoped>\n",
       "    .dataframe tbody tr th:only-of-type {\n",
       "        vertical-align: middle;\n",
       "    }\n",
       "\n",
       "    .dataframe tbody tr th {\n",
       "        vertical-align: top;\n",
       "    }\n",
       "\n",
       "    .dataframe thead th {\n",
       "        text-align: right;\n",
       "    }\n",
       "</style>\n",
       "<table border=\"1\" class=\"dataframe\">\n",
       "  <thead>\n",
       "    <tr style=\"text-align: right;\">\n",
       "      <th></th>\n",
       "      <th>total_bill</th>\n",
       "      <th>tip</th>\n",
       "      <th>sex</th>\n",
       "      <th>smoker</th>\n",
       "      <th>day</th>\n",
       "      <th>time</th>\n",
       "      <th>size</th>\n",
       "    </tr>\n",
       "  </thead>\n",
       "  <tbody>\n",
       "    <tr>\n",
       "      <th>0</th>\n",
       "      <td>16.99</td>\n",
       "      <td>1.01</td>\n",
       "      <td>Female</td>\n",
       "      <td>No</td>\n",
       "      <td>Sun</td>\n",
       "      <td>Dinner</td>\n",
       "      <td>2</td>\n",
       "    </tr>\n",
       "    <tr>\n",
       "      <th>1</th>\n",
       "      <td>10.34</td>\n",
       "      <td>1.66</td>\n",
       "      <td>Male</td>\n",
       "      <td>No</td>\n",
       "      <td>Sun</td>\n",
       "      <td>Dinner</td>\n",
       "      <td>3</td>\n",
       "    </tr>\n",
       "    <tr>\n",
       "      <th>2</th>\n",
       "      <td>21.01</td>\n",
       "      <td>3.50</td>\n",
       "      <td>Male</td>\n",
       "      <td>No</td>\n",
       "      <td>Sun</td>\n",
       "      <td>Dinner</td>\n",
       "      <td>3</td>\n",
       "    </tr>\n",
       "    <tr>\n",
       "      <th>3</th>\n",
       "      <td>23.68</td>\n",
       "      <td>3.31</td>\n",
       "      <td>Male</td>\n",
       "      <td>No</td>\n",
       "      <td>Sun</td>\n",
       "      <td>Dinner</td>\n",
       "      <td>2</td>\n",
       "    </tr>\n",
       "    <tr>\n",
       "      <th>4</th>\n",
       "      <td>24.59</td>\n",
       "      <td>3.61</td>\n",
       "      <td>Female</td>\n",
       "      <td>No</td>\n",
       "      <td>Sun</td>\n",
       "      <td>Dinner</td>\n",
       "      <td>4</td>\n",
       "    </tr>\n",
       "  </tbody>\n",
       "</table>\n",
       "</div>"
      ],
      "text/plain": [
       "   total_bill   tip     sex smoker  day    time  size\n",
       "0       16.99  1.01  Female     No  Sun  Dinner     2\n",
       "1       10.34  1.66    Male     No  Sun  Dinner     3\n",
       "2       21.01  3.50    Male     No  Sun  Dinner     3\n",
       "3       23.68  3.31    Male     No  Sun  Dinner     2\n",
       "4       24.59  3.61  Female     No  Sun  Dinner     4"
      ]
     },
     "execution_count": 6,
     "metadata": {},
     "output_type": "execute_result"
    }
   ],
   "source": [
    "df = sns.load_dataset('tips')\n",
    "df.head()"
   ]
  },
  {
   "cell_type": "markdown",
   "metadata": {},
   "source": [
    "## 1. Chi-square Test"
   ]
  },
  {
   "cell_type": "markdown",
   "metadata": {},
   "source": [
    "`Null Hypothesis:` There is no significant association between gender ('sex') and survival ('tip') on the tips. \n",
    "\n",
    "`Alternative Hypothesis:` There is a significant association between gender ('sex') and survival ('tip') on the tips. "
   ]
  },
  {
   "cell_type": "code",
   "execution_count": 7,
   "metadata": {},
   "outputs": [
    {
     "data": {
      "text/html": [
       "<div>\n",
       "<style scoped>\n",
       "    .dataframe tbody tr th:only-of-type {\n",
       "        vertical-align: middle;\n",
       "    }\n",
       "\n",
       "    .dataframe tbody tr th {\n",
       "        vertical-align: top;\n",
       "    }\n",
       "\n",
       "    .dataframe thead th {\n",
       "        text-align: right;\n",
       "    }\n",
       "</style>\n",
       "<table border=\"1\" class=\"dataframe\">\n",
       "  <thead>\n",
       "    <tr style=\"text-align: right;\">\n",
       "      <th>tip</th>\n",
       "      <th>1.00</th>\n",
       "      <th>1.01</th>\n",
       "      <th>1.10</th>\n",
       "      <th>1.17</th>\n",
       "      <th>1.25</th>\n",
       "      <th>1.32</th>\n",
       "      <th>1.36</th>\n",
       "      <th>1.44</th>\n",
       "      <th>1.45</th>\n",
       "      <th>1.47</th>\n",
       "      <th>...</th>\n",
       "      <th>5.65</th>\n",
       "      <th>5.85</th>\n",
       "      <th>5.92</th>\n",
       "      <th>6.00</th>\n",
       "      <th>6.50</th>\n",
       "      <th>6.70</th>\n",
       "      <th>6.73</th>\n",
       "      <th>7.58</th>\n",
       "      <th>9.00</th>\n",
       "      <th>10.00</th>\n",
       "    </tr>\n",
       "    <tr>\n",
       "      <th>sex</th>\n",
       "      <th></th>\n",
       "      <th></th>\n",
       "      <th></th>\n",
       "      <th></th>\n",
       "      <th></th>\n",
       "      <th></th>\n",
       "      <th></th>\n",
       "      <th></th>\n",
       "      <th></th>\n",
       "      <th></th>\n",
       "      <th></th>\n",
       "      <th></th>\n",
       "      <th></th>\n",
       "      <th></th>\n",
       "      <th></th>\n",
       "      <th></th>\n",
       "      <th></th>\n",
       "      <th></th>\n",
       "      <th></th>\n",
       "      <th></th>\n",
       "      <th></th>\n",
       "    </tr>\n",
       "  </thead>\n",
       "  <tbody>\n",
       "    <tr>\n",
       "      <th>Male</th>\n",
       "      <td>1</td>\n",
       "      <td>0</td>\n",
       "      <td>0</td>\n",
       "      <td>1</td>\n",
       "      <td>2</td>\n",
       "      <td>1</td>\n",
       "      <td>0</td>\n",
       "      <td>2</td>\n",
       "      <td>1</td>\n",
       "      <td>1</td>\n",
       "      <td>...</td>\n",
       "      <td>1</td>\n",
       "      <td>1</td>\n",
       "      <td>1</td>\n",
       "      <td>1</td>\n",
       "      <td>1</td>\n",
       "      <td>1</td>\n",
       "      <td>1</td>\n",
       "      <td>1</td>\n",
       "      <td>1</td>\n",
       "      <td>1</td>\n",
       "    </tr>\n",
       "    <tr>\n",
       "      <th>Female</th>\n",
       "      <td>3</td>\n",
       "      <td>1</td>\n",
       "      <td>1</td>\n",
       "      <td>0</td>\n",
       "      <td>1</td>\n",
       "      <td>0</td>\n",
       "      <td>1</td>\n",
       "      <td>0</td>\n",
       "      <td>0</td>\n",
       "      <td>0</td>\n",
       "      <td>...</td>\n",
       "      <td>0</td>\n",
       "      <td>0</td>\n",
       "      <td>0</td>\n",
       "      <td>0</td>\n",
       "      <td>1</td>\n",
       "      <td>0</td>\n",
       "      <td>0</td>\n",
       "      <td>0</td>\n",
       "      <td>0</td>\n",
       "      <td>0</td>\n",
       "    </tr>\n",
       "  </tbody>\n",
       "</table>\n",
       "<p>2 rows × 123 columns</p>\n",
       "</div>"
      ],
      "text/plain": [
       "tip     1.00   1.01   1.10   1.17   1.25   1.32   1.36   1.44   1.45   1.47   \\\n",
       "sex                                                                            \n",
       "Male        1      0      0      1      2      1      0      2      1      1   \n",
       "Female      3      1      1      0      1      0      1      0      0      0   \n",
       "\n",
       "tip     ...  5.65   5.85   5.92   6.00   6.50   6.70   6.73   7.58   9.00   \\\n",
       "sex     ...                                                                  \n",
       "Male    ...      1      1      1      1      1      1      1      1      1   \n",
       "Female  ...      0      0      0      0      1      0      0      0      0   \n",
       "\n",
       "tip     10.00  \n",
       "sex            \n",
       "Male        1  \n",
       "Female      0  \n",
       "\n",
       "[2 rows x 123 columns]"
      ]
     },
     "execution_count": 7,
     "metadata": {},
     "output_type": "execute_result"
    }
   ],
   "source": [
    "# Create a contigency table\n",
    "contigency_table = pd.crosstab(df['sex'], df['tip'])\n",
    "contigency_table"
   ]
  },
  {
   "cell_type": "code",
   "execution_count": 8,
   "metadata": {},
   "outputs": [
    {
     "name": "stdout",
     "output_type": "stream",
     "text": [
      "Chi-square statistic: 118.11670357319572\n",
      "p-value: 0.5825731193437198\n",
      "Degrees of freedom: 122\n",
      "Expected:\n",
      " [[ 2.57377049  0.64344262  0.64344262  0.64344262  1.93032787  0.64344262\n",
      "   0.64344262  1.28688525  0.64344262  0.64344262  0.64344262  5.79098361\n",
      "   0.64344262  0.64344262  0.64344262  0.64344262  0.64344262  0.64344262\n",
      "   0.64344262  0.64344262  0.64344262  0.64344262  0.64344262  0.64344262\n",
      "   0.64344262  0.64344262  0.64344262  0.64344262  0.64344262  0.64344262\n",
      "   0.64344262 21.23360656  1.28688525  0.64344262  1.28688525  0.64344262\n",
      "   0.64344262  0.64344262  1.28688525  1.28688525  1.28688525  0.64344262\n",
      "   1.28688525  0.64344262  0.64344262  0.64344262  6.43442623  0.64344262\n",
      "   0.64344262  0.64344262  0.64344262  0.64344262  0.64344262  0.64344262\n",
      "   0.64344262  0.64344262  0.64344262  1.28688525  0.64344262  0.64344262\n",
      "   0.64344262 14.79918033  0.64344262  0.64344262  0.64344262  0.64344262\n",
      "   0.64344262  0.64344262  0.64344262  0.64344262  0.64344262  0.64344262\n",
      "   1.28688525  0.64344262  1.28688525  1.28688525  0.64344262  0.64344262\n",
      "   0.64344262  0.64344262  0.64344262  0.64344262  1.93032787  5.79098361\n",
      "   0.64344262  0.64344262  0.64344262  0.64344262  0.64344262  0.64344262\n",
      "   0.64344262  1.28688525  0.64344262  7.72131148  0.64344262  1.28688525\n",
      "   0.64344262  0.64344262  0.64344262  1.28688525  0.64344262  0.64344262\n",
      "   0.64344262  0.64344262  0.64344262  6.43442623  0.64344262  0.64344262\n",
      "   0.64344262  0.64344262  0.64344262  0.64344262  0.64344262  0.64344262\n",
      "   0.64344262  0.64344262  0.64344262  1.28688525  0.64344262  0.64344262\n",
      "   0.64344262  0.64344262  0.64344262]\n",
      " [ 1.42622951  0.35655738  0.35655738  0.35655738  1.06967213  0.35655738\n",
      "   0.35655738  0.71311475  0.35655738  0.35655738  0.35655738  3.20901639\n",
      "   0.35655738  0.35655738  0.35655738  0.35655738  0.35655738  0.35655738\n",
      "   0.35655738  0.35655738  0.35655738  0.35655738  0.35655738  0.35655738\n",
      "   0.35655738  0.35655738  0.35655738  0.35655738  0.35655738  0.35655738\n",
      "   0.35655738 11.76639344  0.71311475  0.35655738  0.71311475  0.35655738\n",
      "   0.35655738  0.35655738  0.71311475  0.71311475  0.71311475  0.35655738\n",
      "   0.71311475  0.35655738  0.35655738  0.35655738  3.56557377  0.35655738\n",
      "   0.35655738  0.35655738  0.35655738  0.35655738  0.35655738  0.35655738\n",
      "   0.35655738  0.35655738  0.35655738  0.71311475  0.35655738  0.35655738\n",
      "   0.35655738  8.20081967  0.35655738  0.35655738  0.35655738  0.35655738\n",
      "   0.35655738  0.35655738  0.35655738  0.35655738  0.35655738  0.35655738\n",
      "   0.71311475  0.35655738  0.71311475  0.71311475  0.35655738  0.35655738\n",
      "   0.35655738  0.35655738  0.35655738  0.35655738  1.06967213  3.20901639\n",
      "   0.35655738  0.35655738  0.35655738  0.35655738  0.35655738  0.35655738\n",
      "   0.35655738  0.71311475  0.35655738  4.27868852  0.35655738  0.71311475\n",
      "   0.35655738  0.35655738  0.35655738  0.71311475  0.35655738  0.35655738\n",
      "   0.35655738  0.35655738  0.35655738  3.56557377  0.35655738  0.35655738\n",
      "   0.35655738  0.35655738  0.35655738  0.35655738  0.35655738  0.35655738\n",
      "   0.35655738  0.35655738  0.35655738  0.71311475  0.35655738  0.35655738\n",
      "   0.35655738  0.35655738  0.35655738]]\n"
     ]
    }
   ],
   "source": [
    "# perform chi-square test\n",
    "chi2, p, dof, expected = stats.chi2_contingency(contigency_table)\n",
    "\n",
    "# print the results\n",
    "print('Chi-square statistic:', chi2)\n",
    "print('p-value:', p)\n",
    "print('Degrees of freedom:', dof)\n",
    "print(f\"Expected:\\n {expected}\")"
   ]
  },
  {
   "cell_type": "markdown",
   "metadata": {},
   "source": [
    "As the p_value in this test is `P-value: 0.5825731193437198` which is Greater than `0.05`, we Fail to reject the null hypothesis."
   ]
  },
  {
   "cell_type": "markdown",
   "metadata": {},
   "source": [
    "---\n",
    "## 2. Normal Distribution Test"
   ]
  },
  {
   "cell_type": "code",
   "execution_count": 9,
   "metadata": {},
   "outputs": [
    {
     "data": {
      "text/html": [
       "<div>\n",
       "<style scoped>\n",
       "    .dataframe tbody tr th:only-of-type {\n",
       "        vertical-align: middle;\n",
       "    }\n",
       "\n",
       "    .dataframe tbody tr th {\n",
       "        vertical-align: top;\n",
       "    }\n",
       "\n",
       "    .dataframe thead th {\n",
       "        text-align: right;\n",
       "    }\n",
       "</style>\n",
       "<table border=\"1\" class=\"dataframe\">\n",
       "  <thead>\n",
       "    <tr style=\"text-align: right;\">\n",
       "      <th></th>\n",
       "      <th>total_bill</th>\n",
       "      <th>tip</th>\n",
       "      <th>sex</th>\n",
       "      <th>smoker</th>\n",
       "      <th>day</th>\n",
       "      <th>time</th>\n",
       "      <th>size</th>\n",
       "    </tr>\n",
       "  </thead>\n",
       "  <tbody>\n",
       "    <tr>\n",
       "      <th>0</th>\n",
       "      <td>16.99</td>\n",
       "      <td>1.01</td>\n",
       "      <td>Female</td>\n",
       "      <td>No</td>\n",
       "      <td>Sun</td>\n",
       "      <td>Dinner</td>\n",
       "      <td>2</td>\n",
       "    </tr>\n",
       "    <tr>\n",
       "      <th>1</th>\n",
       "      <td>10.34</td>\n",
       "      <td>1.66</td>\n",
       "      <td>Male</td>\n",
       "      <td>No</td>\n",
       "      <td>Sun</td>\n",
       "      <td>Dinner</td>\n",
       "      <td>3</td>\n",
       "    </tr>\n",
       "    <tr>\n",
       "      <th>2</th>\n",
       "      <td>21.01</td>\n",
       "      <td>3.50</td>\n",
       "      <td>Male</td>\n",
       "      <td>No</td>\n",
       "      <td>Sun</td>\n",
       "      <td>Dinner</td>\n",
       "      <td>3</td>\n",
       "    </tr>\n",
       "    <tr>\n",
       "      <th>3</th>\n",
       "      <td>23.68</td>\n",
       "      <td>3.31</td>\n",
       "      <td>Male</td>\n",
       "      <td>No</td>\n",
       "      <td>Sun</td>\n",
       "      <td>Dinner</td>\n",
       "      <td>2</td>\n",
       "    </tr>\n",
       "    <tr>\n",
       "      <th>4</th>\n",
       "      <td>24.59</td>\n",
       "      <td>3.61</td>\n",
       "      <td>Female</td>\n",
       "      <td>No</td>\n",
       "      <td>Sun</td>\n",
       "      <td>Dinner</td>\n",
       "      <td>4</td>\n",
       "    </tr>\n",
       "  </tbody>\n",
       "</table>\n",
       "</div>"
      ],
      "text/plain": [
       "   total_bill   tip     sex smoker  day    time  size\n",
       "0       16.99  1.01  Female     No  Sun  Dinner     2\n",
       "1       10.34  1.66    Male     No  Sun  Dinner     3\n",
       "2       21.01  3.50    Male     No  Sun  Dinner     3\n",
       "3       23.68  3.31    Male     No  Sun  Dinner     2\n",
       "4       24.59  3.61  Female     No  Sun  Dinner     4"
      ]
     },
     "execution_count": 9,
     "metadata": {},
     "output_type": "execute_result"
    }
   ],
   "source": [
    "df.head()"
   ]
  },
  {
   "cell_type": "code",
   "execution_count": 13,
   "metadata": {},
   "outputs": [
    {
     "data": {
      "text/plain": [
       "<Axes: xlabel='total_bill', ylabel='Count'>"
      ]
     },
     "execution_count": 13,
     "metadata": {},
     "output_type": "execute_result"
    },
    {
     "data": {
      "image/png": "[encoded data removed]",
      "text/plain": [
       "<Figure size 640x480 with 1 Axes>"
      ]
     },
     "metadata": {},
     "output_type": "display_data"
    }
   ],
   "source": [
    "sns.histplot(data=df ,x='total_bill', kde=True)"
   ]
  },
  {
   "cell_type": "markdown",
   "metadata": {},
   "source": [
    "# shapiro wilk Test on Normal Distribution Gaussian Distribution\n",
    "# Null Hypothesis: The data is normally distributed.\n",
    "# Alternative Hypothesis: Data is not normally distributed."
   ]
  },
  {
   "cell_type": "code",
   "execution_count": 16,
   "metadata": {},
   "outputs": [
    {
     "name": "stdout",
     "output_type": "stream",
     "text": [
      "p-value: 3.3244529351605934e-10, Sample does not look Gaussian/Normally Distributed (reject H0)\n"
     ]
    }
   ],
   "source": [
    "# shapiro Wilk Test \n",
    "statistic, p = stats.shapiro(df['total_bill'])\n",
    "\n",
    "# print the results using if else\n",
    "if p > 0.05:\n",
    "    print(f'p-value: {p}, Sample looks Gaussian/Normally Distributed (fail to reject H0)')\n",
    "else:\n",
    "    print(f'p-value: {p}, Sample does not look Gaussian/Normally Distributed (reject H0)')"
   ]
  },
  {
   "cell_type": "code",
   "execution_count": 17,
   "metadata": {},
   "outputs": [
    {
     "data": {
      "text/plain": [
       "<Axes: xlabel='tip', ylabel='Count'>"
      ]
     },
     "execution_count": 17,
     "metadata": {},
     "output_type": "execute_result"
    },
    {
     "data": {
      "image/png": "[encoded data removed]",
      "text/plain": [
       "<Figure size 640x480 with 1 Axes>"
      ]
     },
     "metadata": {},
     "output_type": "display_data"
    }
   ],
   "source": [
    "sns.histplot(data=df ,x='tip', kde=True)"
   ]
  },
  {
   "cell_type": "code",
   "execution_count": 18,
   "metadata": {},
   "outputs": [
    {
     "name": "stdout",
     "output_type": "stream",
     "text": [
      "p-value: 8.200817629144819e-12, Sample does not look Gaussian/Normally Distributed (reject H0)\n"
     ]
    }
   ],
   "source": [
    "# shapiro Wilk Test \n",
    "statistic, p = stats.shapiro(df['tip'])\n",
    "\n",
    "# print the results using if else\n",
    "if p > 0.05:\n",
    "    print(f'p-value: {p}, Sample looks Gaussian/Normally Distributed (fail to reject H0)')\n",
    "else:\n",
    "    print(f'p-value: {p}, Sample does not look Gaussian/Normally Distributed (reject H0)')"
   ]
  },
  {
   "cell_type": "markdown",
   "metadata": {},
   "source": [
    "# Kolmogorov-Smirnov test"
   ]
  },
  {
   "cell_type": "code",
   "execution_count": 19,
   "metadata": {},
   "outputs": [
    {
     "name": "stdout",
     "output_type": "stream",
     "text": [
      "p-value: 2.500004286381358e-221, Sample does not look Gaussian/Normally Distributed (reject H0)\n"
     ]
    }
   ],
   "source": [
    "# Perform the Kolmogorov-Smirnov test\n",
    "statistic, p = stats.kstest(df['tip'], 'norm')\n",
    "\n",
    "# Print the results using if-else\n",
    "if p > 0.05:\n",
    "    print(f'p-value: {p}, Sample looks Gaussian/Normally Distributed (fail to reject H0)')\n",
    "else:\n",
    "    print(f'p-value: {p}, Sample does not look Gaussian/Normally Distributed (reject H0)')"
   ]
  }
 ],
 "metadata": {
  "kernelspec": {
   "display_name": "Python 3",
   "language": "python",
   "name": "python3"
  },
  "language_info": {
   "codemirror_mode": {
    "name": "ipython",
    "version": 3
   },
   "file_extension": ".py",
   "mimetype": "text/x-python",
   "name": "python",
   "nbconvert_exporter": "python",
   "pygments_lexer": "ipython3",
   "version": "3.12.0"
  }
 },
 "nbformat": 4,
 "nbformat_minor": 2
}
