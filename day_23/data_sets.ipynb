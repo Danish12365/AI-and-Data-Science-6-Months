{
 "cells": [
  {
   "cell_type": "markdown",
   "metadata": {},
   "source": [
    "Sure, here are 15 datasets that you can load using `seaborn.load_dataset`:\n",
    "\n",
    "1. **iris**: Classic dataset for machine learning. It contains measurements of iris flowers.\n",
    "2. **tips**: Contains data about tips in a restaurant.\n",
    "3. **titanic**: Data about passengers on the Titanic, including whether they survived or not.\n",
    "4. **flights**: Information about flights, including the number of passengers and the month of the flight.\n",
    "5. **mpg**: Data about fuel economy for various car models.\n",
    "6. **planets**: Contains information about planets discovered outside our solar system.\n",
    "7. **diamonds**: Dataset containing information about diamonds, including their price, carat, cut, etc.\n",
    "8. **exercise**: Contains data from an exercise physiology experiment.\n",
    "9. **gammas**: Data from a gamma-ray telescope.\n",
    "10. **penguins**: Data about penguins, including their species, bill length, and flipper length.\n",
    "11. **fmri**: Functional magnetic resonance imaging data from an experiment that measured brain activity while subjects performed a task.\n",
    "12. **anagrams**: Data from an experiment on reaction times to different types of stimuli.\n",
    "13. **dots**: Data from an experiment on response times to visual stimuli.\n",
    "14. **brain_networks**: Contains data about brain connectivity networks.\n",
    "15. **attention**: Data from an experiment measuring attention performance.\n",
    "\n",
    "You can load any of these datasets using `seaborn.load_dataset(\"dataset_name\")`. For example, `seaborn.load_dataset(\"iris\")` will load the iris dataset. These datasets are available in the Seaborn library and are commonly used for data visualization and machine learning tasks."
   ]
  },
  {
   "cell_type": "code",
   "execution_count": null,
   "metadata": {},
   "outputs": [],
   "source": []
  }
 ],
 "metadata": {
  "kernelspec": {
   "display_name": "Python 3",
   "language": "python",
   "name": "python3"
  },
  "language_info": {
   "name": "python",
   "version": "3.12.0"
  }
 },
 "nbformat": 4,
 "nbformat_minor": 2
}
